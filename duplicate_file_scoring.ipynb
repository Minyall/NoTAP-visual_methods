{
 "cells": [
  {
   "cell_type": "code",
   "execution_count": 1,
   "metadata": {},
   "outputs": [],
   "source": [
    "import pymongo\n",
    "import pandas as pd\n",
    "import io\n",
    "from PIL import Image\n",
    "import os\n",
    "from SETTINGS import *\n",
    "import matplotlib.pyplot as plt\n",
    "import seaborn\n",
    "%matplotlib inline\n",
    "from itertools import combinations\n",
    "import os\n",
    "from externals.hungarian import HungarianError\n",
    "from fuzzywuzzy import fuzz"
   ]
  },
  {
   "cell_type": "code",
   "execution_count": 2,
   "metadata": {},
   "outputs": [],
   "source": [
    "connection = pymongo.MongoClient()\n",
    "db = connection[name_source_database]\n",
    "collection = db[name_image_file_lookup]"
   ]
  },
  {
   "cell_type": "code",
   "execution_count": 3,
   "metadata": {},
   "outputs": [],
   "source": [
    "projections = {k:1 for k in ['_id', 'count', 'filename','hash', 'labelAnnotations']}"
   ]
  },
  {
   "cell_type": "code",
   "execution_count": 4,
   "metadata": {},
   "outputs": [],
   "source": [
    "image_tag_pipeline = [{'$match':{'_id':{'$exists':1}}}, {'$project':projections}]\n",
    "image_tag_cursor = collection.aggregate(pipeline=image_tag_pipeline, allowDiskUse=True)\n",
    "\n",
    "df = pd.DataFrame(image_tag_cursor)"
   ]
  },
  {
   "cell_type": "code",
   "execution_count": 5,
   "metadata": {},
   "outputs": [],
   "source": [
    "df = df[~df.labelAnnotations.isna()]"
   ]
  },
  {
   "cell_type": "code",
   "execution_count": 6,
   "metadata": {},
   "outputs": [
    {
     "data": {
      "text/html": [
       "<div>\n",
       "<style scoped>\n",
       "    .dataframe tbody tr th:only-of-type {\n",
       "        vertical-align: middle;\n",
       "    }\n",
       "\n",
       "    .dataframe tbody tr th {\n",
       "        vertical-align: top;\n",
       "    }\n",
       "\n",
       "    .dataframe thead th {\n",
       "        text-align: right;\n",
       "    }\n",
       "</style>\n",
       "<table border=\"1\" class=\"dataframe\">\n",
       "  <thead>\n",
       "    <tr style=\"text-align: right;\">\n",
       "      <th></th>\n",
       "      <th>_id</th>\n",
       "      <th>count</th>\n",
       "      <th>filename</th>\n",
       "      <th>hash</th>\n",
       "      <th>labelAnnotations</th>\n",
       "    </tr>\n",
       "  </thead>\n",
       "  <tbody>\n",
       "    <tr>\n",
       "      <th>0</th>\n",
       "      <td>http://pbs.twimg.com/media/BYPJ4QTCEAArCA7.jpg</td>\n",
       "      <td>1</td>\n",
       "      <td>00000.jpg</td>\n",
       "      <td>94985474d0f0b2f2</td>\n",
       "      <td>[{'mid': '/m/01mqdt', 'description': 'Traffic ...</td>\n",
       "    </tr>\n",
       "    <tr>\n",
       "      <th>1</th>\n",
       "      <td>http://pbs.twimg.com/media/C-ZZ2hsW0AAGJ4y.jpg</td>\n",
       "      <td>1</td>\n",
       "      <td>00001.jpg</td>\n",
       "      <td>f0ac7c3c3250b2b2</td>\n",
       "      <td>[{'mid': '/m/05ws7', 'description': 'Police', ...</td>\n",
       "    </tr>\n",
       "    <tr>\n",
       "      <th>2</th>\n",
       "      <td>http://pbs.twimg.com/media/C-Zb4ZqW0AARyIy.jpg</td>\n",
       "      <td>1</td>\n",
       "      <td>00002.jpg</td>\n",
       "      <td>156b665773ebfcde</td>\n",
       "      <td>[{'mid': '/m/07bsy', 'description': 'Transport...</td>\n",
       "    </tr>\n",
       "    <tr>\n",
       "      <th>4</th>\n",
       "      <td>http://pbs.twimg.com/media/C3HKX9JXgAAoyJe.jpg</td>\n",
       "      <td>1</td>\n",
       "      <td>01046.jpg</td>\n",
       "      <td>557525656565059b</td>\n",
       "      <td>[{'mid': '/m/03scnj', 'description': 'Line', '...</td>\n",
       "    </tr>\n",
       "    <tr>\n",
       "      <th>5</th>\n",
       "      <td>http://pbs.twimg.com/media/C3HKdBAXgAEVZ-g.jpg</td>\n",
       "      <td>1</td>\n",
       "      <td>01045.jpg</td>\n",
       "      <td>220e181a2a0e0f17</td>\n",
       "      <td>[{'mid': '/m/07s6nbt', 'description': 'Text', ...</td>\n",
       "    </tr>\n",
       "  </tbody>\n",
       "</table>\n",
       "</div>"
      ],
      "text/plain": [
       "                                              _id  count   filename  \\\n",
       "0  http://pbs.twimg.com/media/BYPJ4QTCEAArCA7.jpg      1  00000.jpg   \n",
       "1  http://pbs.twimg.com/media/C-ZZ2hsW0AAGJ4y.jpg      1  00001.jpg   \n",
       "2  http://pbs.twimg.com/media/C-Zb4ZqW0AARyIy.jpg      1  00002.jpg   \n",
       "4  http://pbs.twimg.com/media/C3HKX9JXgAAoyJe.jpg      1  01046.jpg   \n",
       "5  http://pbs.twimg.com/media/C3HKdBAXgAEVZ-g.jpg      1  01045.jpg   \n",
       "\n",
       "               hash                                   labelAnnotations  \n",
       "0  94985474d0f0b2f2  [{'mid': '/m/01mqdt', 'description': 'Traffic ...  \n",
       "1  f0ac7c3c3250b2b2  [{'mid': '/m/05ws7', 'description': 'Police', ...  \n",
       "2  156b665773ebfcde  [{'mid': '/m/07bsy', 'description': 'Transport...  \n",
       "4  557525656565059b  [{'mid': '/m/03scnj', 'description': 'Line', '...  \n",
       "5  220e181a2a0e0f17  [{'mid': '/m/07s6nbt', 'description': 'Text', ...  "
      ]
     },
     "execution_count": 6,
     "metadata": {},
     "output_type": "execute_result"
    }
   ],
   "source": [
    "df.head()"
   ]
  },
  {
   "cell_type": "code",
   "execution_count": 7,
   "metadata": {},
   "outputs": [],
   "source": [
    "df['tag_list'] = df.labelAnnotations.apply(lambda x: [entry['description'] for entry in x])"
   ]
  },
  {
   "cell_type": "code",
   "execution_count": 8,
   "metadata": {},
   "outputs": [],
   "source": [
    "\n",
    "from externals.measures import AverageJaccard, RankingSetAgreement\n",
    "\n",
    "metric = AverageJaccard()\n",
    "matcher = RankingSetAgreement(metric)\n",
    "\n",
    "\n",
    "rank_scores = pd.DataFrame([(a,b) for a,b in combinations(df.filename, r=2)], columns=['a','b'])\n",
    "\n",
    "rank_scores = rank_scores.merge(df[['filename','tag_list','hash']], left_on='a', right_on='filename').rename(columns={'tag_list':'a_list','hash':'a_hash'}).drop(columns=['filename'])\n",
    "rank_scores = rank_scores.merge(df[['filename','tag_list','hash']], left_on='b', right_on='filename').rename(columns={'tag_list':'b_list','hash':'b_hash'}).drop(columns=['filename'])\n",
    "\n"
   ]
  },
  {
   "cell_type": "code",
   "execution_count": 9,
   "metadata": {},
   "outputs": [
    {
     "data": {
      "text/html": [
       "<div>\n",
       "<style scoped>\n",
       "    .dataframe tbody tr th:only-of-type {\n",
       "        vertical-align: middle;\n",
       "    }\n",
       "\n",
       "    .dataframe tbody tr th {\n",
       "        vertical-align: top;\n",
       "    }\n",
       "\n",
       "    .dataframe thead th {\n",
       "        text-align: right;\n",
       "    }\n",
       "</style>\n",
       "<table border=\"1\" class=\"dataframe\">\n",
       "  <thead>\n",
       "    <tr style=\"text-align: right;\">\n",
       "      <th></th>\n",
       "      <th>a</th>\n",
       "      <th>b</th>\n",
       "      <th>a_list</th>\n",
       "      <th>a_hash</th>\n",
       "      <th>b_list</th>\n",
       "      <th>b_hash</th>\n",
       "    </tr>\n",
       "  </thead>\n",
       "  <tbody>\n",
       "    <tr>\n",
       "      <th>0</th>\n",
       "      <td>00000.jpg</td>\n",
       "      <td>00001.jpg</td>\n",
       "      <td>[Traffic sign, Signage, Sign, Motor vehicle, S...</td>\n",
       "      <td>94985474d0f0b2f2</td>\n",
       "      <td>[Police, Event, Alcohol, Vehicle, Crowd, Offic...</td>\n",
       "      <td>f0ac7c3c3250b2b2</td>\n",
       "    </tr>\n",
       "    <tr>\n",
       "      <th>1</th>\n",
       "      <td>00000.jpg</td>\n",
       "      <td>00002.jpg</td>\n",
       "      <td>[Traffic sign, Signage, Sign, Motor vehicle, S...</td>\n",
       "      <td>94985474d0f0b2f2</td>\n",
       "      <td>[Transport, Vehicle, Mode of transport, Crane,...</td>\n",
       "      <td>156b665773ebfcde</td>\n",
       "    </tr>\n",
       "    <tr>\n",
       "      <th>2</th>\n",
       "      <td>00001.jpg</td>\n",
       "      <td>00002.jpg</td>\n",
       "      <td>[Police, Event, Alcohol, Vehicle, Crowd, Offic...</td>\n",
       "      <td>f0ac7c3c3250b2b2</td>\n",
       "      <td>[Transport, Vehicle, Mode of transport, Crane,...</td>\n",
       "      <td>156b665773ebfcde</td>\n",
       "    </tr>\n",
       "    <tr>\n",
       "      <th>3</th>\n",
       "      <td>00000.jpg</td>\n",
       "      <td>01046.jpg</td>\n",
       "      <td>[Traffic sign, Signage, Sign, Motor vehicle, S...</td>\n",
       "      <td>94985474d0f0b2f2</td>\n",
       "      <td>[Line, Parallel, Machine, Scientific instrument]</td>\n",
       "      <td>557525656565059b</td>\n",
       "    </tr>\n",
       "    <tr>\n",
       "      <th>4</th>\n",
       "      <td>00001.jpg</td>\n",
       "      <td>01046.jpg</td>\n",
       "      <td>[Police, Event, Alcohol, Vehicle, Crowd, Offic...</td>\n",
       "      <td>f0ac7c3c3250b2b2</td>\n",
       "      <td>[Line, Parallel, Machine, Scientific instrument]</td>\n",
       "      <td>557525656565059b</td>\n",
       "    </tr>\n",
       "  </tbody>\n",
       "</table>\n",
       "</div>"
      ],
      "text/plain": [
       "           a          b                                             a_list  \\\n",
       "0  00000.jpg  00001.jpg  [Traffic sign, Signage, Sign, Motor vehicle, S...   \n",
       "1  00000.jpg  00002.jpg  [Traffic sign, Signage, Sign, Motor vehicle, S...   \n",
       "2  00001.jpg  00002.jpg  [Police, Event, Alcohol, Vehicle, Crowd, Offic...   \n",
       "3  00000.jpg  01046.jpg  [Traffic sign, Signage, Sign, Motor vehicle, S...   \n",
       "4  00001.jpg  01046.jpg  [Police, Event, Alcohol, Vehicle, Crowd, Offic...   \n",
       "\n",
       "             a_hash                                             b_list  \\\n",
       "0  94985474d0f0b2f2  [Police, Event, Alcohol, Vehicle, Crowd, Offic...   \n",
       "1  94985474d0f0b2f2  [Transport, Vehicle, Mode of transport, Crane,...   \n",
       "2  f0ac7c3c3250b2b2  [Transport, Vehicle, Mode of transport, Crane,...   \n",
       "3  94985474d0f0b2f2   [Line, Parallel, Machine, Scientific instrument]   \n",
       "4  f0ac7c3c3250b2b2   [Line, Parallel, Machine, Scientific instrument]   \n",
       "\n",
       "             b_hash  \n",
       "0  f0ac7c3c3250b2b2  \n",
       "1  156b665773ebfcde  \n",
       "2  156b665773ebfcde  \n",
       "3  557525656565059b  \n",
       "4  557525656565059b  "
      ]
     },
     "execution_count": 9,
     "metadata": {},
     "output_type": "execute_result"
    }
   ],
   "source": [
    "rank_scores.head()"
   ]
  },
  {
   "cell_type": "code",
   "execution_count": 10,
   "metadata": {},
   "outputs": [],
   "source": [
    "collection = db['file_similarity']"
   ]
  },
  {
   "cell_type": "code",
   "execution_count": 19,
   "metadata": {},
   "outputs": [],
   "source": [
    "existing_comparisons_pipeline = [{'$match':{'_id':{'$exists':1}}}, {'$project':{'_id':1}}]\n",
    "existing_comparisons_cursor = collection.aggregate(pipeline=existing_comparisons_pipeline)\n",
    "existing_comparisons = set([x['_id'] for x in existing_comparisons_cursor])"
   ]
  },
  {
   "cell_type": "code",
   "execution_count": 21,
   "metadata": {},
   "outputs": [],
   "source": [
    "\n",
    "# PRIME THE DB\n",
    "package = []\n",
    "for i, row in rank_scores.iterrows():\n",
    "    _id_string = f\"{row['a']}_{row['b']}\"\n",
    "    if _id_string not in existing_comparisons:\n",
    "        request = pymongo.InsertOne({'_id':_id_string})\n",
    "        package.append(request)\n"
   ]
  },
  {
   "cell_type": "code",
   "execution_count": 23,
   "metadata": {},
   "outputs": [
    {
     "data": {
      "text/plain": [
       "<pymongo.results.BulkWriteResult at 0x13a641f48>"
      ]
     },
     "execution_count": 23,
     "metadata": {},
     "output_type": "execute_result"
    }
   ],
   "source": [
    "collection.bulk_write(package, ordered=False)"
   ]
  },
  {
   "cell_type": "code",
   "execution_count": 24,
   "metadata": {},
   "outputs": [],
   "source": [
    "# SCORE THE LISTS and HASHES\n",
    "SCORE_ON_ERROR = 0 # rank score is max 1, score >1 == error\n",
    "\n",
    "\n",
    "def scorer(chunk):\n",
    "    collection = pymongo.MongoClient()[name_source_database]['file_similarity']\n",
    "    rank_scores = []\n",
    "    for record in chunk:\n",
    "        split_id = record['_id'].split('_')\n",
    "        filename_a,filename_b = split_id[0], split_id[1]\n",
    "        list_a, list_b = tag_lookup[filename_a], tag_lookup[filename_b]\n",
    "        hash_a, hash_b = hash_lookup[filename_a], hash_lookup[filename_b]\n",
    "\n",
    "        try:\n",
    "            rank_score = matcher.similarity(list_a,list_b)\n",
    "        except HungarianError:\n",
    "            rank_score = SCORE_ON_ERROR\n",
    "        hash_score = fuzz.ratio(hash_a, hash_b) / 100\n",
    "        avg_score = (rank_score + hash_score) /2\n",
    "\n",
    "        update = pymongo.UpdateOne(filter= {'_id':record['_id']}, update={'$set':\n",
    "                                                                          {'hash_score':hash_score,\n",
    "                                                                           'rank_score':rank_score,\n",
    "                                                                           'avg_score': avg_score}}, upsert=False)\n",
    "        rank_scores.append(update)\n",
    "    collection.bulk_write(rank_scores, ordered=False)\n",
    "    rank_scores.clear()\n",
    "    return\n",
    "\n",
    "tag_lookup = df.set_index('filename')[['tag_list']].tag_list.to_dict()\n",
    "hash_lookup = df.set_index('filename')[['hash']].hash.to_dict()\n",
    "\n",
    "\n",
    "# iterate through DB \n",
    "\n",
    "\n",
    "iterate_pipeline = [{'$match':{'avg_score':{'$exists':0}}}]\n",
    "iterate_cursor = collection.aggregate(pipeline=iterate_pipeline, allowDiskUse=True)"
   ]
  },
  {
   "cell_type": "code",
   "execution_count": 25,
   "metadata": {},
   "outputs": [],
   "source": [
    "from multiprocessing import Pool, cpu_count\n",
    "from functions import chunks"
   ]
  },
  {
   "cell_type": "code",
   "execution_count": 26,
   "metadata": {},
   "outputs": [
    {
     "data": {
      "text/plain": [
       "4"
      ]
     },
     "execution_count": 26,
     "metadata": {},
     "output_type": "execute_result"
    }
   ],
   "source": [
    "cpus = int(cpu_count() /2)\n",
    "cpus"
   ]
  },
  {
   "cell_type": "code",
   "execution_count": 27,
   "metadata": {},
   "outputs": [],
   "source": [
    "todo = list(iterate_cursor)"
   ]
  },
  {
   "cell_type": "code",
   "execution_count": 28,
   "metadata": {},
   "outputs": [
    {
     "data": {
      "text/plain": [
       "306469"
      ]
     },
     "execution_count": 28,
     "metadata": {},
     "output_type": "execute_result"
    }
   ],
   "source": [
    "len(todo)"
   ]
  },
  {
   "cell_type": "code",
   "execution_count": 29,
   "metadata": {},
   "outputs": [],
   "source": [
    "with Pool(6) as pool:\n",
    "    res = pool.map(scorer, chunks(todo, 1000))"
   ]
  },
  {
   "cell_type": "code",
   "execution_count": null,
   "metadata": {},
   "outputs": [],
   "source": []
  }
 ],
 "metadata": {
  "kernelspec": {
   "display_name": "Python [conda env:NoTap_new]",
   "language": "python",
   "name": "conda-env-NoTap_new-py"
  },
  "language_info": {
   "codemirror_mode": {
    "name": "ipython",
    "version": 3
   },
   "file_extension": ".py",
   "mimetype": "text/x-python",
   "name": "python",
   "nbconvert_exporter": "python",
   "pygments_lexer": "ipython3",
   "version": "3.7.3"
  }
 },
 "nbformat": 4,
 "nbformat_minor": 2
}
